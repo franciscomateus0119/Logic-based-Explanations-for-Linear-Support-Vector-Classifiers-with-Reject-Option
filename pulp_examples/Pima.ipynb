{
 "cells": [
  {
   "cell_type": "code",
   "execution_count": null,
   "id": "44515baa-f342-404e-963d-81dfb5a8d823",
   "metadata": {},
   "outputs": [],
   "source": [
    "from pulp import *\n",
    "from pulp import LpProblem, LpVariable, LpMinimize, LpInteger, lpSum, value, LpBinary,LpStatusOptimal\n",
    "import numpy as np\n",
    "import pandas as pd\n",
    "from sklearn.preprocessing import MinMaxScaler\n",
    "from sklearn import datasets\n",
    "from sklearn.model_selection import train_test_split\n",
    "from sklearn import svm\n",
    "from sklearn import metrics\n",
    "import warnings\n",
    "warnings.filterwarnings(\"ignore\", message=\"Overwriting previously set objective.\")\n",
    "import sys\n",
    "sys.path.append('..')\n",
    "import svm_explainer\n",
    "import utility"
   ]
  },
  {
   "cell_type": "markdown",
   "id": "02738551-eda5-41aa-93de-22d8eed85386",
   "metadata": {},
   "source": [
    "# Dataset loading and scaling"
   ]
  },
  {
   "cell_type": "code",
   "execution_count": null,
   "id": "7021a2ae-5d94-4a88-bb77-2d6c9634de04",
   "metadata": {
    "id": "PW90CcDBHbaM"
   },
   "outputs": [],
   "source": [
    "#Diabetes Dataset - 8 Features\n",
    "df = pd.read_csv('./datasets/diabetes.csv')"
   ]
  },
  {
   "cell_type": "code",
   "execution_count": null,
   "id": "8ff351e6-088b-4739-ad1c-08138eed73db",
   "metadata": {
    "id": "q5plsclR7tUW"
   },
   "outputs": [],
   "source": [
    "#Scaling dataset features\n",
    "scaler = MinMaxScaler()\n",
    "scaler.fit(df.values[:, :-1])\n",
    "scaled_df = scaler.transform(df.values[:, :-1])\n",
    "print(scaled_df.min(),scaled_df.max())"
   ]
  },
  {
   "cell_type": "code",
   "execution_count": null,
   "id": "c0d91153-76f1-4964-8a43-694a4464cdb9",
   "metadata": {
    "tags": []
   },
   "outputs": [],
   "source": [
    "#Changing the patterns to follow a [-1, 1] pattern.\n",
    "targets = utility.check_targets(df.values[:,-1])"
   ]
  },
  {
   "cell_type": "code",
   "execution_count": null,
   "id": "189cbcb1-465c-42bc-9c82-d14cd4875f47",
   "metadata": {},
   "outputs": [],
   "source": [
    "#Splitting into train/test set\n",
    "X_train, X_test, y_train, y_test = train_test_split(scaled_df, targets, test_size=0.3, random_state=107, stratify=targets)\n",
    "X = np.concatenate((X_train,X_test),axis=0)\n",
    "y = np.concatenate((y_train,y_test),axis=0)"
   ]
  },
  {
   "cell_type": "markdown",
   "id": "11eeda56-d84c-4efd-a193-2c71c6696927",
   "metadata": {},
   "source": [
    "# Training the Support Vector Classifier"
   ]
  },
  {
   "cell_type": "code",
   "execution_count": null,
   "id": "04d0bf90-316d-48e6-a8f9-daf3b6bbdfc2",
   "metadata": {
    "colab": {
     "base_uri": "https://localhost:8080/"
    },
    "id": "dx90Sjfwh9cz",
    "outputId": "565c216c-c6e3-48bf-a20b-c64f577ab7f1"
   },
   "outputs": [],
   "source": [
    "#Training the model using the training set\n",
    "clf = svm.SVC(kernel='linear')\n",
    "clf.fit(X_train, y_train)\n",
    "\n",
    "#Predict for test set\n",
    "y_pred = clf.predict(X_test)\n",
    "print(\"Accuracy Linear:\", metrics.accuracy_score(y_test, y_pred))\n",
    "\n",
    "y_pred_train = clf.predict(X_train)\n",
    "print(\"Accuracy on Training:\", metrics.accuracy_score(y_train, y_pred_train))\n",
    "\n",
    "y_ = clf.predict(X)\n",
    "print(\"Accuracy on All:\", metrics.accuracy_score(y_, y))"
   ]
  },
  {
   "cell_type": "markdown",
   "id": "81c77c6a-d369-4ee8-984d-fd7b9ffa554e",
   "metadata": {
    "tags": []
   },
   "source": [
    "# Generating Explanations"
   ]
  },
  {
   "cell_type": "markdown",
   "id": "d9c3b729-5497-40a6-af90-716303648bc4",
   "metadata": {},
   "source": [
    "## Finding Thresholds and Labeling Patterns"
   ]
  },
  {
   "cell_type": "code",
   "execution_count": null,
   "id": "b645dbb7-27d4-4f32-88b0-1f5e0ef35b6e",
   "metadata": {},
   "outputs": [],
   "source": [
    "#Finding Thresholds by minimizing the empiric risk\n",
    "threshold_upper,threshold_lower = utility.find_thresholds(clf, X_train, y_train, wr=[0.24])\n",
    "\n",
    "#Accuracy on Test data\n",
    "test_accuracy = utility.calculate_accuracy(clf, threshold_upper, threshold_lower, X_test, y_test)\n",
    "print(f\"Test Accuracy = {test_accuracy}\")\n",
    "\n",
    "train_accuracy = utility.calculate_accuracy(clf, threshold_upper, threshold_lower, X_train, y_train)\n",
    "print(f\"Train Accuracy = {train_accuracy}\")\n",
    "\n",
    "all_accuracy = utility.calculate_accuracy(clf, threshold_upper, threshold_lower, X, y)\n",
    "print(f\"All Accuracy = {train_accuracy}\")\n",
    "\n",
    "#Labeling patterns based on found thresholds\n",
    "positive_indexes,negative_indexes,rejected_indexes = utility.find_indexes(clf, X, threshold_upper,threshold_lower)\n",
    "print(f\"Positive patterns = {len(positive_indexes)},\\nNegative patterns = {len(negative_indexes)},\\nRejected patterns = {len(rejected_indexes)}\")"
   ]
  },
  {
   "cell_type": "markdown",
   "id": "731b2493-2d9a-41fc-b1b5-32430175f5c1",
   "metadata": {
    "tags": []
   },
   "source": [
    "## Explanations for Rejected Class Patterns"
   ]
  },
  {
   "cell_type": "code",
   "execution_count": null,
   "id": "cd1f7f0a-cc61-423a-a11d-bc211616d313",
   "metadata": {
    "tags": []
   },
   "outputs": [],
   "source": [
    "if len(rejected_indexes) > 0:\n",
    "    explanation = svm_explainer.svm_explanation_rejected(\n",
    "                                    dual_coef = clf.dual_coef_,\n",
    "                                    support_vectors = clf.support_vectors_,\n",
    "                                    intercept = clf.intercept_,\n",
    "                                    t_lower = threshold_lower,\n",
    "                                    t_upper = threshold_upper,\n",
    "                                    lower_bound = scaled_df.min(),\n",
    "                                    upper_bound = scaled_df.max(),\n",
    "                                    data = X[rejected_indexes],\n",
    "                                    show_log = 0,\n",
    "                                    n_threads = 4)\n",
    "    utility.detail_explanation(explanations = explanation, patterns = X[rejected_indexes], number_of_features = len(X[0]), feature_names = df.columns.values[:-1], show_explanation = True)\n",
    "    print(\"Mean size of explanation: \", sum([(len(explanation[i])) for i in range(len(explanation))])/len(explanation))"
   ]
  },
  {
   "cell_type": "markdown",
   "id": "8bd2317e-b3f9-4990-916b-9c84b32664a7",
   "metadata": {
    "tags": []
   },
   "source": [
    "## Explanations for Negative Class Patterns"
   ]
  },
  {
   "cell_type": "code",
   "execution_count": null,
   "id": "9d8640c2-f204-49b8-8083-d01fa86d04ad",
   "metadata": {
    "tags": []
   },
   "outputs": [],
   "source": [
    "if len(negative_indexes) > 0:\n",
    "    explanation = svm_explainer.svm_explanation_binary(\n",
    "                                    dual_coef = clf.dual_coef_,\n",
    "                                    support_vectors = clf.support_vectors_,\n",
    "                                    intercept = clf.intercept_,\n",
    "                                    t_lower = threshold_lower,\n",
    "                                    t_upper = threshold_upper,\n",
    "                                    lower_bound = scaled_df.min(),\n",
    "                                    upper_bound = scaled_df.max(),\n",
    "                                    show_log = 0,\n",
    "                                    n_threads = 4,\n",
    "                                    data = X[negative_indexes],\n",
    "                                    classified = \"Negative\")\n",
    "    utility.detail_explanation(explanations = explanation, patterns = X[negative_indexes], number_of_features = len(X[0]), show_explanation = False)\n",
    "    print(\"Mean size of explanation: \", sum([(len(explanation[i])) for i in range(len(explanation))])/len(explanation))"
   ]
  },
  {
   "cell_type": "markdown",
   "id": "a253f322-7b41-4986-b699-2e540166dc24",
   "metadata": {
    "tags": []
   },
   "source": [
    "## Explanations for Positive Class Patterns"
   ]
  },
  {
   "cell_type": "code",
   "execution_count": null,
   "id": "b634a1e5-9a4d-4594-aa0d-68207f4f5ef7",
   "metadata": {
    "tags": []
   },
   "outputs": [],
   "source": [
    "if len(positive_indexes) > 0:\n",
    "    explanation = svm_explainer.svm_explanation_binary(\n",
    "                                    dual_coef = clf.dual_coef_,\n",
    "                                    support_vectors = clf.support_vectors_,\n",
    "                                    intercept = clf.intercept_,\n",
    "                                    t_lower = threshold_lower,\n",
    "                                    t_upper = threshold_upper,\n",
    "                                    lower_bound = scaled_df.min(),\n",
    "                                    upper_bound = scaled_df.max(),\n",
    "                                    show_log = 0,\n",
    "                                    n_threads = 4,\n",
    "                                    data = X[positive_indexes],\n",
    "                                    classified = \"Positive\")\n",
    "    utility.detail_explanation(explanations = explanation, patterns = X[positive_indexes], number_of_features = len(X[0]), show_explanation = True)\n",
    "    print(\"Mean size of explanation: \", sum([(len(explanation[i])) for i in range(len(explanation))])/len(explanation))"
   ]
  },
  {
   "cell_type": "code",
   "execution_count": null,
   "id": "1acf860f-e28b-4f53-87b7-88bd0dec8c19",
   "metadata": {},
   "outputs": [],
   "source": []
  }
 ],
 "metadata": {
  "kernelspec": {
   "display_name": "Python 3 (ipykernel)",
   "language": "python",
   "name": "python3"
  },
  "language_info": {
   "codemirror_mode": {
    "name": "ipython",
    "version": 3
   },
   "file_extension": ".py",
   "mimetype": "text/x-python",
   "name": "python",
   "nbconvert_exporter": "python",
   "pygments_lexer": "ipython3",
   "version": "3.9.13"
  }
 },
 "nbformat": 4,
 "nbformat_minor": 5
}
