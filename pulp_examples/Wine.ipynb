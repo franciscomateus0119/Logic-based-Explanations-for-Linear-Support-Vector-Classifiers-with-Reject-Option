{
 "cells": [
  {
   "cell_type": "code",
   "execution_count": null,
   "id": "44515baa-f342-404e-963d-81dfb5a8d823",
   "metadata": {},
   "outputs": [],
   "source": [
    "from pulp import *\n",
    "from pulp import LpProblem, LpVariable, LpMinimize, LpInteger, lpSum, value, LpBinary,LpStatusOptimal\n",
    "import numpy as np\n",
    "import pandas as pd\n",
    "from sklearn.preprocessing import MinMaxScaler\n",
    "from sklearn import datasets\n",
    "from sklearn.model_selection import train_test_split\n",
    "from sklearn import svm\n",
    "from sklearn import metrics\n",
    "import warnings\n",
    "warnings.filterwarnings(\"ignore\", message=\"Overwriting previously set objective.\")\n",
    "import sys\n",
    "sys.path.append('..')\n",
    "import svm_explainer\n",
    "import utility"
   ]
  },
  {
   "cell_type": "markdown",
   "id": "1ae51f11-c46a-4b07-b393-198b847d9953",
   "metadata": {},
   "source": [
    "# Dataset loading and scaling"
   ]
  },
  {
   "cell_type": "code",
   "execution_count": null,
   "id": "7021a2ae-5d94-4a88-bb77-2d6c9634de04",
   "metadata": {
    "id": "PW90CcDBHbaM"
   },
   "outputs": [],
   "source": [
    "#Wine Dataset - 13 Features\n",
    "dataset = datasets.load_wine()\n",
    "df = pd.DataFrame(dataset.data, columns = dataset.feature_names)"
   ]
  },
  {
   "cell_type": "code",
   "execution_count": null,
   "id": "d74ed368-6fe8-4487-a16b-83860459e10b",
   "metadata": {},
   "outputs": [],
   "source": [
    "dataset.target"
   ]
  },
  {
   "cell_type": "code",
   "execution_count": null,
   "id": "8ff351e6-088b-4739-ad1c-08138eed73db",
   "metadata": {
    "id": "q5plsclR7tUW"
   },
   "outputs": [],
   "source": [
    "#Scaling dataset features\n",
    "scaler = MinMaxScaler()\n",
    "scaler.fit(dataset.data)\n",
    "scaled_df = scaler.transform(dataset.data)\n",
    "print(scaled_df.min(),scaled_df.max())"
   ]
  },
  {
   "cell_type": "code",
   "execution_count": null,
   "id": "c0d91153-76f1-4964-8a43-694a4464cdb9",
   "metadata": {
    "tags": []
   },
   "outputs": [],
   "source": [
    "#Changing the patterns to follow a [-1, 1] pattern.\n",
    "targets = utility.check_targets(np.where(dataset.target == dataset.target[0],0,1))"
   ]
  },
  {
   "cell_type": "code",
   "execution_count": null,
   "id": "189cbcb1-465c-42bc-9c82-d14cd4875f47",
   "metadata": {},
   "outputs": [],
   "source": [
    "#Splitting into train/test set\n",
    "X_train, X_test, y_train, y_test = train_test_split(scaled_df, targets, test_size=0.3, random_state=107, stratify=targets)\n",
    "X = np.concatenate((X_train,X_test),axis=0)\n",
    "y = np.concatenate((y_train,y_test),axis=0)"
   ]
  },
  {
   "cell_type": "markdown",
   "id": "7196265c-875a-464c-b9ac-386548d699c6",
   "metadata": {},
   "source": [
    "# Training the Support Vector Classifier"
   ]
  },
  {
   "cell_type": "code",
   "execution_count": null,
   "id": "04d0bf90-316d-48e6-a8f9-daf3b6bbdfc2",
   "metadata": {
    "colab": {
     "base_uri": "https://localhost:8080/"
    },
    "id": "dx90Sjfwh9cz",
    "outputId": "565c216c-c6e3-48bf-a20b-c64f577ab7f1"
   },
   "outputs": [],
   "source": [
    "#Training the model using the training set\n",
    "clf = svm.SVC(kernel='linear')\n",
    "clf.fit(X_train, y_train)\n",
    "\n",
    "#Predict for test set\n",
    "y_pred = clf.predict(X_test)\n",
    "print(\"Accuracy Linear:\", metrics.accuracy_score(y_test, y_pred))\n",
    "\n",
    "y_pred_train = clf.predict(X_train)\n",
    "print(\"Accuracy on Training:\", metrics.accuracy_score(y_train, y_pred_train))\n",
    "\n",
    "y_ = clf.predict(X)\n",
    "print(\"Accuracy on All:\", metrics.accuracy_score(y_, y))"
   ]
  },
  {
   "cell_type": "markdown",
   "id": "28c7c8cc-e4fb-4dc3-8acc-e9f4670c2285",
   "metadata": {
    "tags": []
   },
   "source": [
    "# Generating Explanations"
   ]
  },
  {
   "cell_type": "markdown",
   "id": "bdb8d224-fb01-4d41-a6c5-9ab7934dafad",
   "metadata": {},
   "source": [
    "## Finding Thresholds and Labeling Patterns"
   ]
  },
  {
   "cell_type": "code",
   "execution_count": null,
   "id": "b645dbb7-27d4-4f32-88b0-1f5e0ef35b6e",
   "metadata": {},
   "outputs": [],
   "source": [
    "#Finding Thresholds by minimizing the empiric risk\n",
    "threshold_upper,threshold_lower = utility.find_thresholds(clf, X_train, y_train, wr=[0.24])\n",
    "\n",
    "#Accuracy on Test data\n",
    "test_accuracy = utility.calculate_accuracy(clf, threshold_upper, threshold_lower, X_test, y_test)\n",
    "print(f\"Test Accuracy = {test_accuracy}\")\n",
    "\n",
    "train_accuracy = utility.calculate_accuracy(clf, threshold_upper, threshold_lower, X_train, y_train)\n",
    "print(f\"Train Accuracy = {train_accuracy}\")\n",
    "\n",
    "all_accuracy = utility.calculate_accuracy(clf, threshold_upper, threshold_lower, X, y)\n",
    "print(f\"All Accuracy = {train_accuracy}\")\n",
    "\n",
    "#Labeling patterns based on found thresholds\n",
    "positive_indexes,negative_indexes,rejected_indexes = utility.find_indexes(clf, X, threshold_upper,threshold_lower)\n",
    "print(f\"Positive patterns = {len(positive_indexes)},\\nNegative patterns = {len(negative_indexes)},\\nRejected patterns = {len(rejected_indexes)}\")"
   ]
  },
  {
   "cell_type": "markdown",
   "id": "8fcbc38f-4d59-4920-8449-39ecb69d2c25",
   "metadata": {
    "tags": []
   },
   "source": [
    "## Explanations for Rejected Class Patterns"
   ]
  },
  {
   "cell_type": "code",
   "execution_count": null,
   "id": "cd1f7f0a-cc61-423a-a11d-bc211616d313",
   "metadata": {
    "tags": []
   },
   "outputs": [],
   "source": [
    "if len(rejected_indexes) > 0:\n",
    "    explanation = svm_explainer.svm_explanation_rejected(\n",
    "                                    dual_coef = clf.dual_coef_,\n",
    "                                    support_vectors = clf.support_vectors_,\n",
    "                                    intercept = clf.intercept_,\n",
    "                                    t_lower = threshold_lower,\n",
    "                                    t_upper = threshold_upper,\n",
    "                                    lower_bound = scaled_df.min(),\n",
    "                                    upper_bound = scaled_df.max(),\n",
    "                                    data = X[rejected_indexes],\n",
    "                                    show_log = 0,\n",
    "                                    n_threads = 4)\n",
    "    utility.detail_explanation(explanations = explanation, patterns = X[rejected_indexes], number_of_features = len(X[0]), feature_names = dataset.feature_names, show_explanation = True)\n",
    "    print(\"Mean size of explanation: \", sum([(len(explanation[i])) for i in range(len(explanation))])/len(explanation))"
   ]
  },
  {
   "cell_type": "markdown",
   "id": "e3d26c0e-1b02-4e12-a353-da67843bc16d",
   "metadata": {
    "tags": []
   },
   "source": [
    "## Explanations for Negative Class Patterns"
   ]
  },
  {
   "cell_type": "code",
   "execution_count": null,
   "id": "9d8640c2-f204-49b8-8083-d01fa86d04ad",
   "metadata": {
    "tags": []
   },
   "outputs": [],
   "source": [
    "if len(negative_indexes) > 0:\n",
    "    explanation = svm_explainer.svm_explanation_binary(\n",
    "                                    dual_coef = clf.dual_coef_,\n",
    "                                    support_vectors = clf.support_vectors_,\n",
    "                                    intercept = clf.intercept_,\n",
    "                                    t_lower = threshold_lower,\n",
    "                                    t_upper = threshold_upper,\n",
    "                                    lower_bound = scaled_df.min(),\n",
    "                                    upper_bound = scaled_df.max(),\n",
    "                                    show_log = 0,\n",
    "                                    n_threads = 4,\n",
    "                                    data = X[negative_indexes],\n",
    "                                    classified = \"Negative\")\n",
    "    utility.detail_explanation(explanations = explanation, patterns = X[negative_indexes], number_of_features = len(X[0]), show_explanation = False)\n",
    "    print(\"Mean size of explanation: \", sum([(len(explanation[i])) for i in range(len(explanation))])/len(explanation))"
   ]
  },
  {
   "cell_type": "markdown",
   "id": "c541d3ee-0d1a-4f01-a1b0-7f7fc6cb1f6b",
   "metadata": {},
   "source": [
    "## Explanations for Positive Class Patterns"
   ]
  },
  {
   "cell_type": "code",
   "execution_count": null,
   "id": "b634a1e5-9a4d-4594-aa0d-68207f4f5ef7",
   "metadata": {
    "tags": []
   },
   "outputs": [],
   "source": [
    "if len(positive_indexes) > 0:\n",
    "    explanation = svm_explainer.svm_explanation_binary(\n",
    "                                    dual_coef = clf.dual_coef_,\n",
    "                                    support_vectors = clf.support_vectors_,\n",
    "                                    intercept = clf.intercept_,\n",
    "                                    t_lower = threshold_lower,\n",
    "                                    t_upper = threshold_upper,\n",
    "                                    lower_bound = scaled_df.min(),\n",
    "                                    upper_bound = scaled_df.max(),\n",
    "                                    show_log = 0,\n",
    "                                    n_threads = 4,\n",
    "                                    data = X[positive_indexes],\n",
    "                                    classified = \"Positive\")\n",
    "    utility.detail_explanation(explanations = explanation, patterns = X[positive_indexes], number_of_features = len(X[0]), show_explanation = True)\n",
    "    print(\"Mean size of explanation: \", sum([(len(explanation[i])) for i in range(len(explanation))])/len(explanation))"
   ]
  },
  {
   "cell_type": "code",
   "execution_count": null,
   "id": "2269285c-2b42-4ad8-8c78-0e7fde9d6302",
   "metadata": {},
   "outputs": [],
   "source": []
  }
 ],
 "metadata": {
  "kernelspec": {
   "display_name": "Python 3 (ipykernel)",
   "language": "python",
   "name": "python3"
  },
  "language_info": {
   "codemirror_mode": {
    "name": "ipython",
    "version": 3
   },
   "file_extension": ".py",
   "mimetype": "text/x-python",
   "name": "python",
   "nbconvert_exporter": "python",
   "pygments_lexer": "ipython3",
   "version": "3.9.13"
  }
 },
 "nbformat": 4,
 "nbformat_minor": 5
}
