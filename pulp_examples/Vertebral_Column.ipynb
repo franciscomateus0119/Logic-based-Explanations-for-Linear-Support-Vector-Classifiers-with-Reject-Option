{
 "cells": [
  {
   "cell_type": "code",
   "execution_count": null,
   "id": "44515baa-f342-404e-963d-81dfb5a8d823",
   "metadata": {},
   "outputs": [],
   "source": [
    "from pulp import *\n",
    "from pulp import LpProblem, LpVariable, LpMinimize, LpInteger, lpSum, value, LpBinary,LpStatusOptimal\n",
    "import numpy as np\n",
    "import pandas as pd\n",
    "from sklearn.preprocessing import MinMaxScaler\n",
    "from sklearn import datasets\n",
    "from sklearn.model_selection import train_test_split\n",
    "from sklearn import svm\n",
    "from sklearn import metrics\n",
    "import warnings\n",
    "warnings.filterwarnings(\"ignore\", message=\"Overwriting previously set objective.\")\n",
    "import sys\n",
    "sys.path.append('..')\n",
    "import svm_explainer\n",
    "import utility"
   ]
  },
  {
   "cell_type": "markdown",
   "id": "5d901a0e-1125-4723-9bfa-12d3ca5e61b7",
   "metadata": {},
   "source": [
    "# Dataset loading and scaling"
   ]
  },
  {
   "cell_type": "code",
   "execution_count": null,
   "id": "7021a2ae-5d94-4a88-bb77-2d6c9634de04",
   "metadata": {
    "id": "PW90CcDBHbaM"
   },
   "outputs": [],
   "source": [
    "#Column Dataset - 6 Features\n",
    "df = pd.read_csv('./datasets/column_2C.dat', sep=\" \", names=['pelvic_incidence', 'pelvic_tilt', 'lumbar_lordosis_angle', 'sacral_slope', 'pelvic_radius', 'degree_spondylolisthesis','target'])\n",
    "df['target']=np.where(df['target']=='AB',1,0)"
   ]
  },
  {
   "cell_type": "code",
   "execution_count": null,
   "id": "8ff351e6-088b-4739-ad1c-08138eed73db",
   "metadata": {
    "id": "q5plsclR7tUW"
   },
   "outputs": [],
   "source": [
    "#Scaling dataset features\n",
    "scaler = MinMaxScaler()\n",
    "scaler.fit(df.values[:, :-1])\n",
    "scaled_df = scaler.transform(df.values[:, :-1])\n",
    "print(scaled_df.min(),scaled_df.max())"
   ]
  },
  {
   "cell_type": "code",
   "execution_count": null,
   "id": "c0d91153-76f1-4964-8a43-694a4464cdb9",
   "metadata": {
    "tags": []
   },
   "outputs": [],
   "source": [
    "#Changing the patterns to follow a [-1, 1] pattern.\n",
    "targets = utility.check_targets(df.values[:,-1])"
   ]
  },
  {
   "cell_type": "code",
   "execution_count": null,
   "id": "189cbcb1-465c-42bc-9c82-d14cd4875f47",
   "metadata": {},
   "outputs": [],
   "source": [
    "#Splitting into train/test set\n",
    "X_train, X_test, y_train, y_test = train_test_split(scaled_df, targets, test_size=0.3, random_state=107, stratify=targets)\n",
    "X = np.concatenate((X_train,X_test),axis=0)\n",
    "y = np.concatenate((y_train,y_test),axis=0)"
   ]
  },
  {
   "cell_type": "markdown",
   "id": "8305f4d4-825c-4c5e-8735-d64a0e0454e7",
   "metadata": {},
   "source": [
    "# Training the Support Vector Classifier"
   ]
  },
  {
   "cell_type": "code",
   "execution_count": null,
   "id": "04d0bf90-316d-48e6-a8f9-daf3b6bbdfc2",
   "metadata": {
    "colab": {
     "base_uri": "https://localhost:8080/"
    },
    "id": "dx90Sjfwh9cz",
    "outputId": "565c216c-c6e3-48bf-a20b-c64f577ab7f1"
   },
   "outputs": [],
   "source": [
    "#Training the model using the training set\n",
    "clf = svm.SVC(kernel='linear')\n",
    "clf.fit(X_train, y_train)\n",
    "\n",
    "#Predict for test set\n",
    "y_pred = clf.predict(X_test)\n",
    "print(\"Accuracy Linear:\", metrics.accuracy_score(y_test, y_pred))\n",
    "\n",
    "y_pred_train = clf.predict(X_train)\n",
    "print(\"Accuracy on Training:\", metrics.accuracy_score(y_train, y_pred_train))\n",
    "\n",
    "y_ = clf.predict(X)\n",
    "print(\"Accuracy on All:\", metrics.accuracy_score(y_, y))"
   ]
  },
  {
   "cell_type": "markdown",
   "id": "f3aabd44-77a8-4a50-ad5b-5ebfa4d8ea49",
   "metadata": {
    "tags": []
   },
   "source": [
    "# Generating Explanations"
   ]
  },
  {
   "cell_type": "markdown",
   "id": "ae991dbb-3ca7-4e4a-91b0-5fafc318ac4d",
   "metadata": {},
   "source": [
    "## Finding Thresholds and Labeling Patterns"
   ]
  },
  {
   "cell_type": "code",
   "execution_count": null,
   "id": "b645dbb7-27d4-4f32-88b0-1f5e0ef35b6e",
   "metadata": {},
   "outputs": [],
   "source": [
    "#Finding Thresholds by minimizing the empiric risk\n",
    "threshold_upper,threshold_lower = utility.find_thresholds(clf, X_train, y_train, wr=[0.24])\n",
    "\n",
    "#Accuracy on Test data\n",
    "test_accuracy = utility.calculate_accuracy(clf, threshold_upper, threshold_lower, X_test, y_test)\n",
    "print(f\"Test Accuracy = {test_accuracy}\")\n",
    "\n",
    "train_accuracy = utility.calculate_accuracy(clf, threshold_upper, threshold_lower, X_train, y_train)\n",
    "print(f\"Train Accuracy = {train_accuracy}\")\n",
    "\n",
    "all_accuracy = utility.calculate_accuracy(clf, threshold_upper, threshold_lower, X, y)\n",
    "print(f\"All Accuracy = {train_accuracy}\")\n",
    "\n",
    "#Labeling patterns based on found thresholds\n",
    "positive_indexes,negative_indexes,rejected_indexes = utility.find_indexes(clf, X, threshold_upper,threshold_lower)\n",
    "print(f\"Positive patterns = {len(positive_indexes)},\\nNegative patterns = {len(negative_indexes)},\\nRejected patterns = {len(rejected_indexes)}\")"
   ]
  },
  {
   "cell_type": "markdown",
   "id": "c64574c6-f39a-4d72-983a-97dba441edee",
   "metadata": {
    "tags": []
   },
   "source": [
    "## Explanations for Rejected Class Patterns"
   ]
  },
  {
   "cell_type": "code",
   "execution_count": null,
   "id": "cd1f7f0a-cc61-423a-a11d-bc211616d313",
   "metadata": {
    "tags": []
   },
   "outputs": [],
   "source": [
    "if len(rejected_indexes) > 0:\n",
    "    explanation = svm_explainer.svm_explanation_rejected(\n",
    "                                    dual_coef = clf.dual_coef_,\n",
    "                                    support_vectors = clf.support_vectors_,\n",
    "                                    intercept = clf.intercept_,\n",
    "                                    t_lower = threshold_lower,\n",
    "                                    t_upper = threshold_upper,\n",
    "                                    lower_bound = scaled_df.min(),\n",
    "                                    upper_bound = scaled_df.max(),\n",
    "                                    data = X[rejected_indexes],\n",
    "                                    show_log = 1,\n",
    "                                    n_threads = 4)\n",
    "    utility.detail_explanation(explanations = explanation, patterns = X[rejected_indexes], number_of_features = len(X[0]), feature_names = df.columns.values[:-1], show_explanation = True)\n",
    "    print(\"Mean size of explanation: \", sum([(len(explanation[i])) for i in range(len(explanation))])/len(explanation))"
   ]
  },
  {
   "cell_type": "code",
   "execution_count": null,
   "id": "e205c456-fe2c-4c58-874e-33af98d05eba",
   "metadata": {},
   "outputs": [],
   "source": [
    "clf.dual_coef_ @ clf.support_vectors_, clf.intercept_"
   ]
  },
  {
   "cell_type": "code",
   "execution_count": null,
   "id": "c082404f-493f-482c-805e-e1ef56e54779",
   "metadata": {},
   "outputs": [],
   "source": [
    "frequency = utility.detail_explanation(explanations = explanation, patterns = X[rejected_indexes], number_of_features = len(X[0]), show_explanation = False, return_frequency = True)"
   ]
  },
  {
   "cell_type": "code",
   "execution_count": null,
   "id": "a4fb267e-e88d-48d5-87f2-1f10ba6dc3b5",
   "metadata": {},
   "outputs": [],
   "source": [
    "frequency.loc[(frequency['x3']==1)& (frequency['x2']==0)] "
   ]
  },
  {
   "cell_type": "code",
   "execution_count": null,
   "id": "9bd3aff2-a1e6-4562-96bb-70d2b6c8eea4",
   "metadata": {},
   "outputs": [],
   "source": [
    "X[rejected_indexes[84:85]]"
   ]
  },
  {
   "cell_type": "code",
   "execution_count": null,
   "id": "23334e29-81d7-4e84-aa21-bc28a7d8ee5f",
   "metadata": {},
   "outputs": [],
   "source": [
    "0.25125386 0.4244373  0.57356363 0.20007403 0.71932466 0.15363128"
   ]
  },
  {
   "cell_type": "markdown",
   "id": "9ec098a7-9565-4e5b-8a03-8642d9744b8c",
   "metadata": {},
   "source": [
    "## Explanations for Negative Class Patterns"
   ]
  },
  {
   "cell_type": "code",
   "execution_count": null,
   "id": "9d8640c2-f204-49b8-8083-d01fa86d04ad",
   "metadata": {
    "tags": []
   },
   "outputs": [],
   "source": [
    "if len(negative_indexes) > 0:\n",
    "    explanation = svm_explainer.svm_explanation_binary(\n",
    "                                    dual_coef = clf.dual_coef_,\n",
    "                                    support_vectors = clf.support_vectors_,\n",
    "                                    intercept = clf.intercept_,\n",
    "                                    t_lower = threshold_lower,\n",
    "                                    t_upper = threshold_upper,\n",
    "                                    lower_bound = scaled_df.min(),\n",
    "                                    upper_bound = scaled_df.max(),\n",
    "                                    show_log = 0,\n",
    "                                    n_threads = 4,\n",
    "                                    data = X[negative_indexes],\n",
    "                                    classified = \"Negative\")\n",
    "    utility.detail_explanation(explanations = explanation, patterns = X[negative_indexes], number_of_features = len(X[0]), show_explanation = False)\n",
    "    print(\"Mean size of explanation: \", sum([(len(explanation[i])) for i in range(len(explanation))])/len(explanation))"
   ]
  },
  {
   "cell_type": "markdown",
   "id": "bc15d065-6ab8-474d-ad4a-282da0129f93",
   "metadata": {},
   "source": [
    "## Explanations for Positive Class Patterns"
   ]
  },
  {
   "cell_type": "code",
   "execution_count": null,
   "id": "b634a1e5-9a4d-4594-aa0d-68207f4f5ef7",
   "metadata": {
    "tags": []
   },
   "outputs": [],
   "source": [
    "if len(positive_indexes) > 0:\n",
    "    explanation = svm_explainer.svm_explanation_binary(\n",
    "                                    dual_coef = clf.dual_coef_,\n",
    "                                    support_vectors = clf.support_vectors_,\n",
    "                                    intercept = clf.intercept_,\n",
    "                                    t_lower = threshold_lower,\n",
    "                                    t_upper = threshold_upper,\n",
    "                                    lower_bound = scaled_df.min(),\n",
    "                                    upper_bound = scaled_df.max(),\n",
    "                                    show_log = 0,\n",
    "                                    n_threads = 4,\n",
    "                                    data = X[positive_indexes],\n",
    "                                    classified = \"Positive\")\n",
    "    utility.detail_explanation(explanations = explanation, patterns = X[positive_indexes], number_of_features = len(X[0]), show_explanation = True)\n",
    "    print(\"Mean size of explanation: \", sum([(len(explanation[i])) for i in range(len(explanation))])/len(explanation))"
   ]
  },
  {
   "cell_type": "code",
   "execution_count": null,
   "id": "19ab6811-dec7-4029-9e5c-0e0775bbcad2",
   "metadata": {},
   "outputs": [],
   "source": []
  }
 ],
 "metadata": {
  "kernelspec": {
   "display_name": "Python 3 (ipykernel)",
   "language": "python",
   "name": "python3"
  },
  "language_info": {
   "codemirror_mode": {
    "name": "ipython",
    "version": 3
   },
   "file_extension": ".py",
   "mimetype": "text/x-python",
   "name": "python",
   "nbconvert_exporter": "python",
   "pygments_lexer": "ipython3",
   "version": "3.9.13"
  }
 },
 "nbformat": 4,
 "nbformat_minor": 5
}
